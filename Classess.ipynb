{
 "cells": [
  {
   "cell_type": "markdown",
   "metadata": {},
   "source": [
    "### Exceptions\n",
    "\n",
    "* Python (interpreter) raises exceptions when it encounter errors.\n",
    "* You can get all inbuilt exception using locals()[\\'\\__builtins\\__\\']\n",
    "* When these exceptions occur, it causes the current process to stop and passes it to the calling process until it is handled. If not handled, our program will crash."
   ]
  },
  {
   "cell_type": "markdown",
   "metadata": {},
   "source": [
    "### Exception Handling"
   ]
  },
  {
   "cell_type": "markdown",
   "metadata": {},
   "source": [
    "##### You can do exception handling using \n",
    "* try...except... finally block : here **Finally** is **optional**\n",
    "* The try block lets you test a block of code for errors.\n",
    "* The except block lets you handle the error.\n",
    "* The finally block lets you execute code, regardless of the result of the try- and except blocks.\n",
    "\n"
   ]
  },
  {
   "cell_type": "code",
   "execution_count": 10,
   "metadata": {},
   "outputs": [],
   "source": [
    "\n",
    "try:\n",
    "    pass\n",
    "except:\n",
    "    pass\n",
    "finally:\n",
    "    pass\n"
   ]
  },
  {
   "cell_type": "code",
   "execution_count": 3,
   "metadata": {},
   "outputs": [
    {
     "name": "stdout",
     "output_type": "stream",
     "text": [
      "E\n"
     ]
    }
   ],
   "source": [
    "try:\n",
    "    if a>3:\n",
    "        print(\"T\")\n",
    "except:\n",
    "    print(\"E\")"
   ]
  },
  {
   "cell_type": "markdown",
   "metadata": {},
   "source": [
    "#### Handling Specific Error"
   ]
  },
  {
   "cell_type": "code",
   "execution_count": null,
   "metadata": {},
   "outputs": [],
   "source": [
    "* try:\n",
    "   # do something\n",
    "   pass\n",
    "\n",
    "except ValueError:\n",
    "   # handle ValueError exception\n",
    "   pass\n",
    "\n",
    "except (TypeError, ZeroDivisionError):\n",
    "   # handle multiple exceptions\n",
    "   # TypeError and ZeroDivisionError\n",
    "   pass\n",
    "\n",
    "except:\n",
    "   # handle all other exceptions\n",
    "   pass"
   ]
  },
  {
   "cell_type": "markdown",
   "metadata": {},
   "source": [
    "Ex."
   ]
  },
  {
   "cell_type": "code",
   "execution_count": 4,
   "metadata": {},
   "outputs": [
    {
     "name": "stdout",
     "output_type": "stream",
     "text": [
      "Variable x is not defined\n"
     ]
    }
   ],
   "source": [
    "try:\n",
    "  print(x)\n",
    "except NameError:\n",
    "  print(\"Variable x is not defined\")\n",
    "except:\n",
    "  print(\"Something else went wrong\")"
   ]
  },
  {
   "cell_type": "code",
   "execution_count": null,
   "metadata": {},
   "outputs": [],
   "source": []
  },
  {
   "cell_type": "code",
   "execution_count": null,
   "metadata": {},
   "outputs": [],
   "source": []
  },
  {
   "cell_type": "code",
   "execution_count": null,
   "metadata": {},
   "outputs": [],
   "source": []
  },
  {
   "cell_type": "markdown",
   "metadata": {},
   "source": [
    "### Object-oriented programming\n",
    "\n",
    "* Object-oriented Programming, or OOP for short, is a programming paradigm which provides a means of structuring programs so that properties and behaviors are bundled into individual objects.\n",
    "* Object-oriented programming is the problem-solving approach and used where computation is done by using objects.\n",
    "* Python is an object-oriented programming language. \n",
    "* It allows us to develop applications using an Object Oriented approach. \n",
    "* In Python, we can easily create and use classes and objects."
   ]
  },
  {
   "cell_type": "markdown",
   "metadata": {},
   "source": [
    "### OOPs Concepts:\n",
    "    1.Object\n",
    "    2.Class\n",
    "    3.Method\n",
    "    4.Encapsulation\n",
    "    5.Abstraction\n",
    "    6.Polymorphism\n",
    "    7.Inheritance"
   ]
  },
  {
   "cell_type": "markdown",
   "metadata": {},
   "source": [
    "#### 1.Object\n",
    "* Real world entity\n",
    "* It has state and behaviour\n",
    "* In python everything is object,\n",
    "\n",
    "\n",
    "#### 2.Class\n",
    "* The class can be defined as a collection of objects.\n",
    "* It is a logical entity that has some specific attributes and methods.\n",
    "\n",
    "\n",
    "#### 3.Method/Behaviour\n",
    "* The method is a function that is associated with an object\n",
    "\n",
    "\n",
    "\n",
    "\n",
    "#### 4.Encapsulation\n",
    "\n",
    "* Encapsulation is a mechanism of wrapping the data\n",
    "* Purpose of encapsulation is you would have full control on data by using the code.\n",
    "\n",
    "\n",
    "#### 5.Abstraction\n",
    "* Abstraction is a process of hiding the implementation details from the user\n",
    "\n",
    "\n",
    "#### 6. Polymorphism\n",
    "\n",
    "* Poly: multiple/many \n",
    "* morh: forms\n",
    "* In object-oriented programming, polymorphism specifically,allows you an entity such as a function, or an object to have more than one form.\n",
    "* Features of polymorphism mainly depends on the programming languages.\n",
    "* Ex.  function overloading is possible in Java, C++ etc., but not possible in JavaScript. Operator overloading is only possible in C++.\n",
    "\n",
    "\n",
    "#### 7. Inheritance\n",
    "\n",
    "* Inheritance can be defined as the process where one class acquires the properties (methods and fields) of another.\n",
    "* The idea of inheritance implements the is a relationship\n",
    "\n",
    "\n",
    "**Types Of Inheritance:**\n",
    "    * Single Inheritance\n",
    "    * Multiple Inheritance\n",
    "    * Multi-Level Inheritance\n",
    "    * Hierarchical Inheritance\n",
    "    * Hybrid Inheritance\n",
    "    \n",
    "#### Advantages\n",
    "\n",
    "* Promotes reusability\n",
    "* Less development cost\n",
    "* Helps to reduce code redundency\n",
    "\n",
    "#### Disadvantages\n",
    "* Since Inheritance, a change in base class will affect all child classes"
   ]
  },
  {
   "cell_type": "markdown",
   "metadata": {},
   "source": [
    "### Python - public, private and protected Access Modifiers"
   ]
  },
  {
   "cell_type": "markdown",
   "metadata": {},
   "source": [
    "#### Public"
   ]
  },
  {
   "cell_type": "markdown",
   "metadata": {},
   "source": [
    "* Public members (generally methods declared in a class) are accessible from outside the class.\n",
    "* The object of the same class is required to invoke a public method."
   ]
  },
  {
   "cell_type": "code",
   "execution_count": 12,
   "metadata": {},
   "outputs": [],
   "source": [
    "class employee:\n",
    "    def __init__(self, name, sal):\n",
    "        self.name=name\n",
    "        self.salary=sal"
   ]
  },
  {
   "cell_type": "code",
   "execution_count": null,
   "metadata": {},
   "outputs": [],
   "source": []
  },
  {
   "cell_type": "markdown",
   "metadata": {},
   "source": [
    "#### Protected\n",
    "\n",
    "* Protected members of a class are accessible from within the class and are also available to its sub-classes.\n",
    "* Python's convention to make an instance variable protected is to add a prefix _ (single underscore) to it.\n",
    "* "
   ]
  },
  {
   "cell_type": "code",
   "execution_count": 13,
   "metadata": {},
   "outputs": [],
   "source": [
    "class employee:\n",
    "    def __init__(self, name, sal):\n",
    "        self._name=name  # protected attribute \n",
    "        self._salary=sal # protected attribute"
   ]
  },
  {
   "cell_type": "markdown",
   "metadata": {},
   "source": [
    "In fact, this doesn't prevent instance variables from accessing or modifyingthe instance. You can still perform the following operations:"
   ]
  },
  {
   "cell_type": "code",
   "execution_count": 15,
   "metadata": {},
   "outputs": [],
   "source": [
    "e1=employee(\"Swati\", 10000)"
   ]
  },
  {
   "cell_type": "code",
   "execution_count": 19,
   "metadata": {},
   "outputs": [
    {
     "data": {
      "text/plain": [
       "'G'"
      ]
     },
     "execution_count": 19,
     "metadata": {},
     "output_type": "execute_result"
    }
   ],
   "source": [
    "e1._name"
   ]
  },
  {
   "cell_type": "markdown",
   "metadata": {},
   "source": [
    "Hence, the responsible programmer would refrain from accessing and modifying instance variables prefixed with _ from outside its class."
   ]
  },
  {
   "cell_type": "markdown",
   "metadata": {},
   "source": [
    "#### Private\n",
    "\n",
    "* a double underscore __ prefixed to a variable makes it private\n",
    "* It gives a strong suggestion not to touch it from outside the class. Any attempt to do so will result in an AttributeError:\n",
    "* Internally this will be save as \\_class__variable.\n",
    "* You can access it using \\_object.\\_class\\__variable."
   ]
  },
  {
   "cell_type": "code",
   "execution_count": 20,
   "metadata": {},
   "outputs": [],
   "source": [
    "class employee:\n",
    "    def __init__(self, name, sal):\n",
    "        self.__name=name  # private attribute \n",
    "        self.__salary=sal # private attribute"
   ]
  },
  {
   "cell_type": "code",
   "execution_count": 21,
   "metadata": {},
   "outputs": [],
   "source": [
    "e1=employee(\"Bill\",10000)"
   ]
  },
  {
   "cell_type": "code",
   "execution_count": 23,
   "metadata": {},
   "outputs": [
    {
     "data": {
      "text/plain": [
       "'Bill'"
      ]
     },
     "execution_count": 23,
     "metadata": {},
     "output_type": "execute_result"
    }
   ],
   "source": []
  },
  {
   "cell_type": "markdown",
   "metadata": {},
   "source": [
    "#### To DO\n",
    "* https://medium.com/from-the-scratch/oop-everything-you-need-to-know-about-object-oriented-programming-aee3c18e281b\n",
    "* https://www.javatpoint.com/python-oops-concepts\n",
    "* https://www.tutorialspoint.com/python/python_exceptions.htm\n",
    "* https://beginnersbook.com/2018/03/python-oops-concepts/"
   ]
  },
  {
   "cell_type": "markdown",
   "metadata": {},
   "source": [
    "### Exercise"
   ]
  },
  {
   "cell_type": "markdown",
   "metadata": {},
   "source": [
    "1. How to create user-defined Exception?\n",
    "\n",
    "Create user-defined error named: my_first_used_def_exception with mesage as \"My first UDE\""
   ]
  },
  {
   "cell_type": "code",
   "execution_count": null,
   "metadata": {},
   "outputs": [],
   "source": []
  }
 ],
 "metadata": {
  "kernelspec": {
   "display_name": "Python 3",
   "language": "python",
   "name": "python3"
  },
  "language_info": {
   "codemirror_mode": {
    "name": "ipython",
    "version": 3
   },
   "file_extension": ".py",
   "mimetype": "text/x-python",
   "name": "python",
   "nbconvert_exporter": "python",
   "pygments_lexer": "ipython3",
   "version": "3.7.3"
  }
 },
 "nbformat": 4,
 "nbformat_minor": 2
}
